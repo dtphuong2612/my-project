{
  "cells": [
    {
      "cell_type": "markdown",
      "metadata": {
        "id": "view-in-github",
        "colab_type": "text"
      },
      "source": [
        "<a href=\"https://colab.research.google.com/github/dtphuong2612/Projects/blob/main/MoviesRatingPrediction_LightGCN_model.ipynb\" target=\"_parent\"><img src=\"https://colab.research.google.com/assets/colab-badge.svg\" alt=\"Open In Colab\"/></a>"
      ]
    },
    {
      "cell_type": "markdown",
      "metadata": {
        "id": "8abbed94"
      },
      "source": [
        "# Imports"
      ],
      "id": "8abbed94"
    },
    {
      "cell_type": "code",
      "execution_count": null,
      "metadata": {
        "colab": {
          "base_uri": "https://localhost:8080/"
        },
        "id": "SPzxriBjV_oL",
        "outputId": "78cf5460-c995-4278-b73b-01bbb659b6d8"
      },
      "outputs": [
        {
          "output_type": "stream",
          "name": "stdout",
          "text": [
            "Looking in indexes: https://pypi.org/simple, https://us-python.pkg.dev/colab-wheels/public/simple/\n",
            "Collecting torch_sparse\n",
            "  Downloading torch_sparse-0.6.15.tar.gz (2.1 MB)\n",
            "\u001b[K     |████████████████████████████████| 2.1 MB 30.0 MB/s \n",
            "\u001b[?25hRequirement already satisfied: scipy in /usr/local/lib/python3.8/dist-packages (from torch_sparse) (1.7.3)\n",
            "Requirement already satisfied: numpy<1.23.0,>=1.16.5 in /usr/local/lib/python3.8/dist-packages (from scipy->torch_sparse) (1.21.6)\n",
            "Building wheels for collected packages: torch-sparse\n",
            "  Building wheel for torch-sparse (setup.py) ... \u001b[?25l\u001b[?25hdone\n",
            "  Created wheel for torch-sparse: filename=torch_sparse-0.6.15-cp38-cp38-linux_x86_64.whl size=1577329 sha256=cf47797697332dcc6a2762d9daae22f1ef2105bfb01ce3ac2eb145b4db4fb1de\n",
            "  Stored in directory: /root/.cache/pip/wheels/3c/4e/f2/2d7bcec11f628aa3070dceb8fcdfb84907c4f745f213e49dab\n",
            "Successfully built torch-sparse\n",
            "Installing collected packages: torch-sparse\n",
            "Successfully installed torch-sparse-0.6.15\n"
          ]
        }
      ],
      "source": [
        "!pip install torch_sparse"
      ],
      "id": "SPzxriBjV_oL"
    },
    {
      "cell_type": "code",
      "execution_count": null,
      "metadata": {
        "colab": {
          "base_uri": "https://localhost:8080/"
        },
        "id": "fW9RxWuoho8X",
        "outputId": "64b61463-0da6-4954-b6ae-468c11969138"
      },
      "outputs": [
        {
          "output_type": "stream",
          "name": "stdout",
          "text": [
            "Looking in indexes: https://pypi.org/simple, https://us-python.pkg.dev/colab-wheels/public/simple/\n",
            "Collecting torch_scatter\n",
            "  Downloading torch_scatter-2.1.0.tar.gz (106 kB)\n",
            "\u001b[K     |████████████████████████████████| 106 kB 27.4 MB/s \n",
            "\u001b[?25hBuilding wheels for collected packages: torch-scatter\n",
            "  Building wheel for torch-scatter (setup.py) ... \u001b[?25l\u001b[?25hdone\n",
            "  Created wheel for torch-scatter: filename=torch_scatter-2.1.0-cp38-cp38-linux_x86_64.whl size=3062829 sha256=f44a80bb5230f22868771827b557bcc26abcee759d10aa434d461202b8d314b2\n",
            "  Stored in directory: /root/.cache/pip/wheels/41/7f/4f/cf072bea3b6efe4561de2db3603ebbd8718c134c24caab8281\n",
            "Successfully built torch-scatter\n",
            "Installing collected packages: torch-scatter\n",
            "Successfully installed torch-scatter-2.1.0\n"
          ]
        }
      ],
      "source": [
        "!pip install torch_scatter"
      ],
      "id": "fW9RxWuoho8X"
    },
    {
      "cell_type": "code",
      "execution_count": null,
      "metadata": {
        "colab": {
          "base_uri": "https://localhost:8080/",
          "height": 678
        },
        "id": "l6erXMo0kfRq",
        "outputId": "031ab573-5df4-464c-bcc1-63ce00465276"
      },
      "outputs": [
        {
          "output_type": "stream",
          "name": "stdout",
          "text": [
            "Looking in indexes: https://pypi.org/simple, https://us-python.pkg.dev/colab-wheels/public/simple/\n",
            "Collecting torch_geometric\n",
            "  Downloading torch_geometric-2.2.0.tar.gz (564 kB)\n",
            "\u001b[K     |████████████████████████████████| 564 kB 32.3 MB/s \n",
            "\u001b[?25hRequirement already satisfied: tqdm in /usr/local/lib/python3.8/dist-packages (from torch_geometric) (4.64.1)\n",
            "Requirement already satisfied: numpy in /usr/local/lib/python3.8/dist-packages (from torch_geometric) (1.21.6)\n",
            "Requirement already satisfied: scipy in /usr/local/lib/python3.8/dist-packages (from torch_geometric) (1.7.3)\n",
            "Requirement already satisfied: jinja2 in /usr/local/lib/python3.8/dist-packages (from torch_geometric) (2.11.3)\n",
            "Requirement already satisfied: requests in /usr/local/lib/python3.8/dist-packages (from torch_geometric) (2.23.0)\n",
            "Requirement already satisfied: pyparsing in /usr/local/lib/python3.8/dist-packages (from torch_geometric) (3.0.9)\n",
            "Requirement already satisfied: scikit-learn in /usr/local/lib/python3.8/dist-packages (from torch_geometric) (1.0.2)\n",
            "Collecting psutil>=5.8.0\n",
            "  Downloading psutil-5.9.4-cp36-abi3-manylinux_2_12_x86_64.manylinux2010_x86_64.manylinux_2_17_x86_64.manylinux2014_x86_64.whl (280 kB)\n",
            "\u001b[K     |████████████████████████████████| 280 kB 76.7 MB/s \n",
            "\u001b[?25hRequirement already satisfied: MarkupSafe>=0.23 in /usr/local/lib/python3.8/dist-packages (from jinja2->torch_geometric) (2.0.1)\n",
            "Requirement already satisfied: urllib3!=1.25.0,!=1.25.1,<1.26,>=1.21.1 in /usr/local/lib/python3.8/dist-packages (from requests->torch_geometric) (1.24.3)\n",
            "Requirement already satisfied: chardet<4,>=3.0.2 in /usr/local/lib/python3.8/dist-packages (from requests->torch_geometric) (3.0.4)\n",
            "Requirement already satisfied: idna<3,>=2.5 in /usr/local/lib/python3.8/dist-packages (from requests->torch_geometric) (2.10)\n",
            "Requirement already satisfied: certifi>=2017.4.17 in /usr/local/lib/python3.8/dist-packages (from requests->torch_geometric) (2022.9.24)\n",
            "Requirement already satisfied: joblib>=0.11 in /usr/local/lib/python3.8/dist-packages (from scikit-learn->torch_geometric) (1.2.0)\n",
            "Requirement already satisfied: threadpoolctl>=2.0.0 in /usr/local/lib/python3.8/dist-packages (from scikit-learn->torch_geometric) (3.1.0)\n",
            "Building wheels for collected packages: torch-geometric\n",
            "  Building wheel for torch-geometric (setup.py) ... \u001b[?25l\u001b[?25hdone\n",
            "  Created wheel for torch-geometric: filename=torch_geometric-2.2.0-py3-none-any.whl size=773302 sha256=e8f80b73c32a589ba1a4b3671de7e8586957b88b62f27af026a82f59f32ca62d\n",
            "  Stored in directory: /root/.cache/pip/wheels/59/a3/20/198928106d3169865ae73afcbd3d3d1796cf6b429b55c65378\n",
            "Successfully built torch-geometric\n",
            "Installing collected packages: psutil, torch-geometric\n",
            "  Attempting uninstall: psutil\n",
            "    Found existing installation: psutil 5.4.8\n",
            "    Uninstalling psutil-5.4.8:\n",
            "      Successfully uninstalled psutil-5.4.8\n",
            "Successfully installed psutil-5.9.4 torch-geometric-2.2.0\n"
          ]
        },
        {
          "output_type": "display_data",
          "data": {
            "application/vnd.colab-display-data+json": {
              "pip_warning": {
                "packages": [
                  "psutil"
                ]
              }
            }
          },
          "metadata": {}
        }
      ],
      "source": [
        "!pip install torch_geometric"
      ],
      "id": "l6erXMo0kfRq"
    },
    {
      "cell_type": "code",
      "execution_count": null,
      "metadata": {
        "id": "06db3c8e"
      },
      "outputs": [],
      "source": [
        "# import required modules\n",
        "import random\n",
        "from tqdm.notebook import tqdm\n",
        "import pandas as pd\n",
        "import numpy as np\n",
        "import matplotlib.pyplot as plt\n",
        "from sklearn.model_selection import train_test_split\n",
        "from sklearn import model_selection, metrics, preprocessing\n",
        "import copy\n",
        "\n",
        "import torch\n",
        "from torch import nn, optim, Tensor\n",
        "\n",
        "from torch_sparse import SparseTensor, matmul\n",
        "\n",
        "from collections import defaultdict\n",
        "\n",
        "from torch_geometric.utils import structured_negative_sampling\n",
        "from torch_geometric.data import download_url, extract_zip\n",
        "from torch_geometric.nn.conv.gcn_conv import gcn_norm\n",
        "from torch_geometric.nn.conv import MessagePassing\n",
        "from torch_geometric.typing import Adj\n",
        "import torch.nn.functional as F"
      ],
      "id": "06db3c8e"
    },
    {
      "cell_type": "markdown",
      "metadata": {
        "id": "9c42e300"
      },
      "source": [
        "# Load Dataset"
      ],
      "id": "9c42e300"
    },
    {
      "cell_type": "code",
      "execution_count": null,
      "metadata": {
        "colab": {
          "base_uri": "https://localhost:8080/"
        },
        "id": "53a38ace",
        "outputId": "1a753888-2f43-4dcc-fcfe-f32ddf66b1cc"
      },
      "outputs": [
        {
          "output_type": "stream",
          "name": "stderr",
          "text": [
            "Extracting /content/archive (6).zip\n"
          ]
        }
      ],
      "source": [
        "\n",
        "# download the dataset\n",
        "# https://grouplens.org/datasets/movielens/\n",
        "# \"Small: 100,000 ratings and 3,600 tag applications applied to 9,000 movies by 600 users. Last updated 9/2018\"\n",
        "path22 = '/content/archive (6).zip'\n",
        "extract_zip(path22, '.')\n"
      ],
      "id": "53a38ace"
    },
    {
      "cell_type": "code",
      "execution_count": null,
      "metadata": {
        "id": "pdC5TisVMdIW"
      },
      "outputs": [],
      "source": [
        "movie_path = '/content/movies.csv'\n",
        "rating_path = '/content/ratings.csv'\n",
        "user_path = '/content/tags.csv'"
      ],
      "id": "pdC5TisVMdIW"
    },
    {
      "cell_type": "code",
      "execution_count": null,
      "metadata": {
        "id": "dcc01c7c"
      },
      "outputs": [],
      "source": [
        "rating_df = pd.read_csv(rating_path)\n",
        "\n",
        "lbl_user = preprocessing.LabelEncoder()\n",
        "lbl_movie = preprocessing.LabelEncoder()\n",
        "\n",
        "rating_df.userId = lbl_user.fit_transform(rating_df.userId.values)\n",
        "rating_df.movieId = lbl_movie.fit_transform(rating_df.movieId.values)"
      ],
      "id": "dcc01c7c"
    },
    {
      "cell_type": "code",
      "execution_count": null,
      "metadata": {
        "colab": {
          "base_uri": "https://localhost:8080/"
        },
        "id": "335a8286",
        "outputId": "cfdc5c7c-fbf4-49a2-fa38-c67ec0240ac2"
      },
      "outputs": [
        {
          "output_type": "stream",
          "name": "stdout",
          "text": [
            "609\n",
            "9723\n"
          ]
        }
      ],
      "source": [
        "print(rating_df.userId.max())\n",
        "\n",
        "print(rating_df.movieId.max())"
      ],
      "id": "335a8286"
    },
    {
      "cell_type": "code",
      "execution_count": null,
      "metadata": {
        "id": "07f9b0ee"
      },
      "outputs": [],
      "source": [
        "# load edges between users and movies\n",
        "def load_edge_csv(df, \n",
        "                  src_index_col, \n",
        "                  dst_index_col,  \n",
        "                  link_index_col, \n",
        "                  rating_threshold=2.0):\n",
        "    \"\"\"Loads csv containing edges between users and items\n",
        "\n",
        "    Args:\n",
        "        path (str): path to csv file\n",
        "        src_index_col (str): column name of users\n",
        "        src_mapping (dict): mapping between row number and user id\n",
        "        dst_index_col (str): column name of items\n",
        "        dst_mapping (dict): mapping between row number and item id\n",
        "        link_index_col (str): column name of user item interaction\n",
        "        rating_threshold (int, optional): Threshold to determine positivity of edge. Defaults to 4.\n",
        "\n",
        "    Returns:\n",
        "        torch.Tensor: 2 by N matrix containing the node ids of N user-item edges\n",
        "    \"\"\"\n",
        "    \n",
        "    edge_index = None\n",
        "    src = [user_id for user_id in  df['userId']]\n",
        "    \n",
        "    num_users = len(df['userId'].unique())\n",
        "\n",
        "    dst = [(movie_id) for movie_id in df['movieId']]\n",
        "    \n",
        "    link_vals = df[link_index_col].values\n",
        "\n",
        "    edge_attr = torch.from_numpy(df[link_index_col].values).view(-1, 1).to(torch.long) >= rating_threshold\n",
        "\n",
        "    edge_values = []\n",
        "\n",
        "    edge_index = [[], []]\n",
        "    for i in range(edge_attr.shape[0]):\n",
        "        if edge_attr[i]:\n",
        "            edge_index[0].append(src[i])\n",
        "            edge_index[1].append(dst[i])\n",
        "            edge_values.append(link_vals[i])\n",
        "\n",
        "    # edge_values is the label we will use for compute training loss                \n",
        "    return edge_index, edge_values"
      ],
      "id": "07f9b0ee"
    },
    {
      "cell_type": "code",
      "execution_count": null,
      "metadata": {
        "id": "938a5feb"
      },
      "outputs": [],
      "source": [
        "\n",
        "edge_index, edge_values = load_edge_csv(\n",
        "    rating_df,\n",
        "    src_index_col='userId',\n",
        "    dst_index_col='movieId',\n",
        "    link_index_col='rating',\n",
        "    rating_threshold=1.0 # need to use threshold=1 so the model can learn based on RMSE\n",
        ")"
      ],
      "id": "938a5feb"
    },
    {
      "cell_type": "code",
      "execution_count": null,
      "metadata": {
        "colab": {
          "base_uri": "https://localhost:8080/"
        },
        "id": "98409e8c",
        "outputId": "b9b25d35-a9f7-49a0-89d5-c4548171461e"
      },
      "outputs": [
        {
          "output_type": "stream",
          "name": "stdout",
          "text": [
            "tensor([[   0,    0,    0,  ...,  609,  609,  609],\n",
            "        [   0,    2,    5,  ..., 9444, 9445, 9485]])\n",
            "torch.Size([2, 99466])\n",
            "tensor([4., 4., 4.,  ..., 5., 5., 3.], dtype=torch.float64)\n",
            "torch.Size([99466])\n"
          ]
        }
      ],
      "source": [
        "\n",
        "# Convert to tensor\n",
        "# We use LongTensor here because the .propagate() method in the model needs either LongTensor or SparseTensor\n",
        "edge_index = torch.LongTensor(edge_index) \n",
        "edge_values = torch.tensor(edge_values)\n",
        "\n",
        "print(edge_index)\n",
        "print(edge_index.size())\n",
        "\n",
        "print(edge_values)\n",
        "print(edge_values.size())"
      ],
      "id": "98409e8c"
    },
    {
      "cell_type": "code",
      "execution_count": null,
      "metadata": {
        "colab": {
          "base_uri": "https://localhost:8080/"
        },
        "id": "cd2b5afa",
        "outputId": "f37bbf19-fdb3-4f10-8864-3ce3536fbdc6"
      },
      "outputs": [
        {
          "output_type": "stream",
          "name": "stdout",
          "text": [
            "num_users 610, num_movies 9724\n"
          ]
        }
      ],
      "source": [
        "# split the edges of the graph using a 80/10/10 train/validation/test split\n",
        "# num_users, num_movies = len(user_mapping), len(movie_mapping)\n",
        "\n",
        "num_users = len(rating_df['userId'].unique())\n",
        "num_movies = len(rating_df['movieId'].unique())\n",
        "\n",
        "print(f\"num_users {num_users}, num_movies {num_movies}\")"
      ],
      "id": "cd2b5afa"
    },
    {
      "cell_type": "code",
      "execution_count": null,
      "metadata": {
        "id": "5573dbc4"
      },
      "outputs": [],
      "source": [
        "def convert_r_mat_edge_index_to_adj_mat_edge_index(input_edge_index, input_edge_values):\n",
        "    R = torch.zeros((num_users, num_movies))\n",
        "    for i in range(len(input_edge_index[0])):\n",
        "        row_idx = input_edge_index[0][i]\n",
        "        col_idx = input_edge_index[1][i]\n",
        "        R[row_idx][col_idx] = input_edge_values[i] # assign actual edge value to Interaction Matrix\n",
        "\n",
        "    R_transpose = torch.transpose(R, 0, 1)\n",
        "    \n",
        "    # create adj_matrix\n",
        "    adj_mat = torch.zeros((num_users + num_movies , num_users + num_movies))\n",
        "    adj_mat[: num_users, num_users :] = R.clone()\n",
        "    adj_mat[num_users :, : num_users] = R_transpose.clone()\n",
        "    \n",
        "    adj_mat_coo = adj_mat.to_sparse_coo()\n",
        "    adj_mat_coo_indices = adj_mat_coo.indices()\n",
        "    adj_mat_coo_values = adj_mat_coo.values()\n",
        "    return adj_mat_coo_indices, adj_mat_coo_values"
      ],
      "id": "5573dbc4"
    },
    {
      "cell_type": "code",
      "execution_count": null,
      "metadata": {
        "id": "788a1df1"
      },
      "outputs": [],
      "source": [
        "def convert_adj_mat_edge_index_to_r_mat_edge_index(input_edge_index, input_edge_values):\n",
        "    sparse_input_edge_index = SparseTensor(row=input_edge_index[0], \n",
        "                                           col=input_edge_index[1], \n",
        "                                           value = input_edge_values,\n",
        "                                           sparse_sizes=((num_users + num_movies), num_users + num_movies))\n",
        "    \n",
        "    adj_mat = sparse_input_edge_index.to_dense()\n",
        "    interact_mat = adj_mat[: num_users, num_users :]\n",
        "    \n",
        "    r_mat_edge_index = interact_mat.to_sparse_coo().indices()\n",
        "    r_mat_edge_values = interact_mat.to_sparse_coo().values()\n",
        "    \n",
        "    return r_mat_edge_index, r_mat_edge_values"
      ],
      "id": "788a1df1"
    },
    {
      "cell_type": "code",
      "execution_count": null,
      "metadata": {
        "id": "c59e3f35"
      },
      "outputs": [],
      "source": [
        "num_interactions = edge_index.shape[1]\n",
        "all_indices = [i for i in range(num_interactions)]\n",
        "\n",
        "train_indices, test_indices = train_test_split(all_indices, \n",
        "                                               test_size=0.2, \n",
        "                                               random_state=1)\n",
        "\n",
        "val_indices, test_indices = train_test_split(test_indices, \n",
        "                                             test_size=0.5, \n",
        "                                             random_state=1)"
      ],
      "id": "c59e3f35"
    },
    {
      "cell_type": "code",
      "execution_count": null,
      "metadata": {
        "id": "ee13fb68"
      },
      "outputs": [],
      "source": [
        "train_edge_index = edge_index[:, train_indices]\n",
        "train_edge_value = edge_values[train_indices]\n",
        "\n",
        "val_edge_index = edge_index[:, val_indices]\n",
        "val_edge_value = edge_values[val_indices]\n",
        "\n",
        "test_edge_index = edge_index[:, test_indices]\n",
        "test_edge_value = edge_values[test_indices]"
      ],
      "id": "ee13fb68"
    },
    {
      "cell_type": "code",
      "execution_count": null,
      "metadata": {
        "colab": {
          "base_uri": "https://localhost:8080/"
        },
        "id": "ae8d9dd1",
        "outputId": "a19eaad2-7518-4ac1-a99d-c0bc480e5fcd"
      },
      "outputs": [
        {
          "output_type": "stream",
          "name": "stdout",
          "text": [
            "num_users 610, num_movies 9724, num_interactions 99466\n",
            "train_edge_index tensor([[ 239,  102,  225,  ...,   34,  488,  609],\n",
            "        [ 274, 9006,  792,  ...,  260, 1486, 3867]])\n",
            "10334\n",
            "torch.Size([610])\n",
            "torch.Size([8898])\n",
            "tensor([4.5000, 3.5000, 3.5000,  ..., 3.5000, 5.0000, 1.0000],\n",
            "       dtype=torch.float64)\n",
            "torch.Size([9947])\n"
          ]
        }
      ],
      "source": [
        "print(f\"num_users {num_users}, num_movies {num_movies}, num_interactions {num_interactions}\")\n",
        "print(f\"train_edge_index {train_edge_index}\")\n",
        "print((num_users + num_movies))\n",
        "print(torch.unique(train_edge_index[0]).size())\n",
        "print(torch.unique(train_edge_index[1]).size())\n",
        "\n",
        "print(test_edge_value)\n",
        "print(test_edge_value.size())"
      ],
      "id": "ae8d9dd1"
    },
    {
      "cell_type": "code",
      "execution_count": null,
      "metadata": {
        "id": "853bf141"
      },
      "outputs": [],
      "source": [
        "train_edge_index, train_edge_values  = convert_r_mat_edge_index_to_adj_mat_edge_index(train_edge_index, train_edge_value)\n",
        "val_edge_index, val_edge_values = convert_r_mat_edge_index_to_adj_mat_edge_index(val_edge_index, val_edge_value)\n",
        "test_edge_index, test_edge_values = convert_r_mat_edge_index_to_adj_mat_edge_index(test_edge_index, test_edge_value)"
      ],
      "id": "853bf141"
    },
    {
      "cell_type": "code",
      "execution_count": null,
      "metadata": {
        "id": "a4e13290",
        "colab": {
          "base_uri": "https://localhost:8080/"
        },
        "outputId": "cfde1edc-527d-4c5a-a050-30b1b2eb1ed8"
      },
      "outputs": [
        {
          "output_type": "stream",
          "name": "stdout",
          "text": [
            "tensor([[    0,     0,     0,  ..., 10331, 10332, 10333],\n",
            "        [  610,   615,   653,  ...,   183,   183,   330]])\n",
            "torch.Size([2, 159144])\n",
            "tensor([[    0,     0,     0,  ..., 10312, 10316, 10327],\n",
            "        [  612,   699,   924,  ...,   247,    49,   183]])\n",
            "torch.Size([2, 19894])\n",
            "tensor([[    0,     0,     0,  ..., 10302, 10307, 10310],\n",
            "        [  656,   734,   746,  ...,   513,   211,   337]])\n",
            "torch.Size([2, 19894])\n",
            "\n",
            " train_edge_values: \n",
            " tensor([4.0000, 4.0000, 5.0000,  ..., 3.5000, 3.5000, 4.0000]) \n",
            " torch.Size([159144])\n",
            "\n",
            " val_edge_values: \n",
            " tensor([4.0000, 5.0000, 4.0000,  ..., 3.5000, 3.5000, 4.0000]) \n",
            " torch.Size([19894])\n",
            "\n",
            " test_edge_values: \n",
            " tensor([5.0000, 5.0000, 5.0000,  ..., 3.0000, 4.5000, 2.5000]) \n",
            " torch.Size([19894])\n"
          ]
        }
      ],
      "source": [
        "print(train_edge_index)\n",
        "print(train_edge_index.size())\n",
        "print(val_edge_index)\n",
        "print(val_edge_index.size())\n",
        "print(test_edge_index)\n",
        "print(test_edge_index.size())\n",
        "\n",
        "print(f\"\\n train_edge_values: \\n {train_edge_values} \\n {train_edge_values.size()}\")\n",
        "print(f\"\\n val_edge_values: \\n {val_edge_values} \\n {val_edge_values.size()}\")\n",
        "print(f\"\\n test_edge_values: \\n {test_edge_values} \\n {test_edge_values.size()}\")"
      ],
      "id": "a4e13290"
    },
    {
      "cell_type": "markdown",
      "metadata": {
        "id": "eaab5b0e"
      },
      "source": [
        "# Implementing LightGCN\n",
        "\n",
        "## Light Graph Convolution\n",
        "Between each layer, LightGCN uses the following propagation rule for user and item embeddings.\n",
        "\n",
        "\\begin{equation}\n",
        "e_u^{(k+1)} = \\sum_{i \\in N_u} \\frac{1}{\\sqrt{|N_u|}\\sqrt{|N_i|}} e_i^{(k)} \\quad e_i^{(k+1)} = \\sum_{u \\in N_i} \\frac{1}{\\sqrt{|N_i|}\\sqrt{|N_u|}} e_u^{(k)}\n",
        "\\end{equation}\n",
        "\n",
        "$N_u$: the set of all neighbors of user $u$ (items liked by $u$)\n",
        "\n",
        "$N_i$: the set of all neighbors of item $i$ (users who liked $i$)\n",
        "\n",
        "$e_u^{(k)}$ : k-th layer user embedding\n",
        "\n",
        "$e_i^{(k)}$ : k-th layer item embedding\n",
        "\n",
        "\n",
        "\n",
        "## Layer Combination and Model Prediction\n",
        "The only trainable parameters of LightGCN are the 0-th layer embeddings $e_u^{(0)}$ and $e_i^{(0)}$ for each user and item. We combine the embeddings obtained at each layer of propagation to form the final embeddings for all user and item, $e_u$ and $e_i$ via the follwing equation.\n",
        "\n",
        "\n",
        "\\begin{equation}\n",
        "e_u = \\sum_{k = 0}^K \\alpha_k e_u^{(k)} \\quad e_i = \\sum_{k = 0}^K \\alpha_k e_i^{(k)}\n",
        "\\end{equation}\n",
        "\n",
        "$\\alpha_k$ : hyperparameter which weights the contribution of the k-th layer embedding to the final embedding\n",
        "\n",
        "The model prediction is obtained by taking the inner product of the final user and item embeddings.\n",
        "\n",
        "\\begin{equation}\n",
        "\\hat{y}_{ui} = e_u^Te_i\n",
        "\\end{equation}\n",
        "\n",
        "## Matrix Form\n",
        "In our implementation, we utilize the matrix form of LightGCN. We perform multi-scale diffusion to obtain the final embedding, which sums embeddings diffused across multi-hop scales. \n",
        "\n",
        "\\begin{equation}\n",
        "E^{(K)} = \\alpha_0 E^{(0)} + \\alpha_1 \\tilde{A}^1 E^{(0)} + \\alpha_2 \\tilde{A}^2 E^{(0)} + \\cdot \\cdot \\cdot + \\alpha_K \\tilde{A}^K \\tilde{A} E^{(0)}\n",
        "\\end{equation}\n",
        "\n",
        "$E^{(0)} \\in \\mathcal{R}^{(M + N)} \\times T$ : stacked initial item and user embeddings where $M$, $N$, and $T$ denote the number of users, number of items, and the dimension of each embedding respectively\n",
        "\n",
        "$\\tilde{A} = D^{-\\frac{1}{2}}AD^{-\\frac{1}{2}}$ : symmetrically normalized adjacency matrix"
      ],
      "id": "eaab5b0e"
    },
    {
      "cell_type": "code",
      "execution_count": null,
      "metadata": {
        "id": "6e8bdc1b"
      },
      "outputs": [],
      "source": [],
      "id": "6e8bdc1b"
    },
    {
      "cell_type": "code",
      "execution_count": null,
      "metadata": {
        "id": "9e07d93a"
      },
      "outputs": [],
      "source": [
        "# defines LightGCN model\n",
        "class LightGCN(MessagePassing):\n",
        "    \"\"\"LightGCN Model as proposed in https://arxiv.org/abs/2002.02126\n",
        "    \"\"\"\n",
        "\n",
        "    def __init__(self, num_users, num_items, embedding_dim=64, K=3, add_self_loops=False, dropout_rate=0.3):\n",
        "        \"\"\"Initializes LightGCN Model\n",
        "\n",
        "        Args:\n",
        "            num_users (int): Number of users\n",
        "            num_items (int): Number of items\n",
        "            embedding_dim (int, optional): Dimensionality of embeddings. Defaults to 8.\n",
        "            K (int, optional): Number of message passing layers. Defaults to 3.\n",
        "            add_self_loops (bool, optional): Whether to add self loops for message passing. Defaults to False.\n",
        "        \"\"\"\n",
        "        super().__init__()\n",
        "        self.dropout_rate = dropout_rate\n",
        "        self.num_users = num_users\n",
        "        self.num_items = num_items\n",
        "        self.embedding_dim = embedding_dim\n",
        "        self.K = K\n",
        "        self.add_self_loops = add_self_loops\n",
        "\n",
        "\n",
        "        # define user and item embedding for direct look up. \n",
        "        # embedding dimension: num_user/num_item x embedding_dim\n",
        "        self.users_emb = nn.Embedding(num_embeddings=self.num_users, embedding_dim=self.embedding_dim) # e_u^0\n",
        "        \n",
        "        self.items_emb = nn.Embedding(num_embeddings=self.num_items, embedding_dim=self.embedding_dim) # e_i^0\n",
        "\n",
        "        \n",
        "        # \"Fills the input Tensor with values drawn from the normal distribution\"\n",
        "        # according to LightGCN paper, this gives better performance\n",
        "        nn.init.normal_(self.users_emb.weight, std=0.1)\n",
        "        nn.init.normal_(self.items_emb.weight, std=0.1)\n",
        "        \n",
        "        # create a linear layer (fully connected layer) so we can output a single value (predicted_rating)\n",
        "        self.out = nn.Linear(embedding_dim + embedding_dim, 1)\n",
        "\n",
        "    def forward(self, edge_index: Tensor, edge_values: Tensor):\n",
        "        \"\"\"Forward propagation of LightGCN Model.\n",
        "\n",
        "        Args:\n",
        "            edge_index (SparseTensor): adjacency matrix\n",
        "\n",
        "        Returns:\n",
        "            tuple (Tensor): e_u_k, e_u_0, e_i_k, e_i_0\n",
        "        \"\"\"\n",
        "        \n",
        "        \"\"\"\n",
        "            compute \\tilde{A}: symmetrically normalized adjacency matrix\n",
        "            \\tilde_A = D^(-1/2) * A * D^(-1/2)    according to LightGCN paper\n",
        "        \n",
        "            this is essentially a metrix operation way to get 1/ (sqrt(n_neighbors_i) * sqrt(n_neighbors_j))\n",
        "\n",
        "        \n",
        "            if your original edge_index look like\n",
        "            tensor([[   0,    0,    0,  ...,  609,  609,  609],\n",
        "                    [   0,    2,    5,  ..., 9444, 9445, 9485]])\n",
        "                    \n",
        "                    torch.Size([2, 99466])\n",
        "                    \n",
        "            then this will output: \n",
        "                (\n",
        "                 tensor([[   0,    0,    0,  ...,  609,  609,  609],\n",
        "                         [   0,    2,    5,  ..., 9444, 9445, 9485]]), \n",
        "                 tensor([0.0047, 0.0096, 0.0068,  ..., 0.0592, 0.0459, 0.1325])\n",
        "                 )\n",
        "                 \n",
        "              where edge_index_norm[0] is just the original edge_index\n",
        "              \n",
        "              and edge_index_norm[1] is the symmetrically normalization term. \n",
        "              \n",
        "            under the hood it's basically doing\n",
        "                def compute_gcn_norm(edge_index, emb):\n",
        "                    emb = emb.weight\n",
        "                    from_, to_ = edge_index\n",
        "                    deg = degree(to_, emb.size(0), dtype=emb.dtype)\n",
        "                    deg_inv_sqrt = deg.pow(-0.5)\n",
        "                    deg_inv_sqrt[deg_inv_sqrt == float('inf')] = 0\n",
        "                    norm = deg_inv_sqrt[from_] * deg_inv_sqrt[to_]\n",
        "\n",
        "                    return norm\n",
        "                 \n",
        "                \n",
        "        \"\"\"\n",
        "        edge_index_norm = gcn_norm(edge_index=edge_index, \n",
        "                                   add_self_loops=self.add_self_loops)\n",
        "\n",
        "        # concat the user_emb and item_emb as the layer0 embing matrix\n",
        "        # size will be (n_users + n_items) x emb_vector_len.   e.g: 10334 x 64\n",
        "        emb_0 = torch.cat([self.users_emb.weight, self.items_emb.weight]) # E^0\n",
        "\n",
        "        embs = [emb_0] # save the layer0 emb to the embs list\n",
        "        \n",
        "        # emb_k is the emb that we are actually going to push it through the graph layers\n",
        "        # as described in lightGCN paper formula 7\n",
        "        emb_k = emb_0 \n",
        "\n",
        "        # push the embedding of all users and items through the Graph Model K times.\n",
        "        # K here is the number of layers\n",
        "        for i in range(self.K):\n",
        "            emb_k = self.propagate(edge_index=edge_index_norm[0], x=emb_k, norm=edge_index_norm[1])\n",
        "            embs.append(emb_k)\n",
        "            \n",
        "            \n",
        "        # this is doing the formula8 in LightGCN paper  \n",
        "            \n",
        "        # the stacked embs is a list of embedding matrix at each layer\n",
        "        #    it's of shape n_nodes x (n_layers + 1) x emb_vector_len. \n",
        "        #        e.g: torch.Size([10334, 4, 64])\n",
        "        embs = torch.stack(embs, dim=1)\n",
        "        \n",
        "        # From LightGCn paper: \"In our experiments, we find that setting α_k uniformly as 1/(K + 1)\n",
        "        #    leads to good performance in general.\"\n",
        "        emb_final = torch.mean(embs, dim=1) # E^K\n",
        "        \n",
        "        users_emb_final, items_emb_final = torch.split(emb_final, \n",
        "                                                       [self.num_users, self.num_items]) # splits into e_u^K and e_i^K\n",
        "\n",
        "\n",
        "        r_mat_edge_index, _ = convert_adj_mat_edge_index_to_r_mat_edge_index(edge_index, edge_values)\n",
        "        \n",
        "        src, dest =  r_mat_edge_index[0], r_mat_edge_index[1]\n",
        "        \n",
        "        # applying embedding lookup to get embeddings for src nodes and dest nodes in the edge list\n",
        "        user_embeds = users_emb_final[src]\n",
        "        item_embeds = items_emb_final[dest]\n",
        "        \n",
        "        # output dim: edge_index_len x 128 (given 64 is the original emb_vector_len)\n",
        "        output = torch.cat([user_embeds, item_embeds], dim=1)\n",
        "        \n",
        "        # push it through the linear layer\n",
        "        output = self.out(output)\n",
        "        \n",
        "        return output\n",
        "    \n",
        "    def message(self, x_j, norm):\n",
        "        return norm.view(-1, 1) * x_j\n",
        "\n",
        "layers = 1 \n",
        "model = LightGCN(num_users=num_users, \n",
        "                 num_items=num_movies, \n",
        "                 K=layers)"
      ],
      "id": "9e07d93a"
    },
    {
      "cell_type": "code",
      "source": [],
      "metadata": {
        "id": "2NiSmB7f9PYY"
      },
      "id": "2NiSmB7f9PYY",
      "execution_count": null,
      "outputs": []
    },
    {
      "cell_type": "markdown",
      "metadata": {
        "id": "0f5989fc"
      },
      "source": [
        "# Training\n",
        "\n",
        "Your test set performance should be in line with the following (*K=20*):\n"
      ],
      "id": "0f5989fc"
    },
    {
      "cell_type": "code",
      "execution_count": null,
      "metadata": {
        "id": "4c8a59f8"
      },
      "outputs": [],
      "source": [
        "# define contants\n",
        "ITERATIONS = 15000\n",
        "EPOCHS = 10\n",
        "# ITERATIONS = 500\n",
        "BATCH_SIZE = 1024\n",
        "LR = 0.001\n",
        "ITERS_PER_EVAL = 200\n",
        "ITERS_PER_LR_DECAY = 200\n",
        "K = 10\n",
        "LAMBDA = 1e-6\n",
        "# LAMBDA = 1/2"
      ],
      "id": "4c8a59f8"
    },
    {
      "cell_type": "code",
      "execution_count": null,
      "metadata": {
        "id": "1470e6a7",
        "colab": {
          "base_uri": "https://localhost:8080/"
        },
        "outputId": "1ff49986-01bb-4b2a-fa9f-65787eccb974"
      },
      "outputs": [
        {
          "output_type": "stream",
          "name": "stdout",
          "text": [
            "BATCH_SIZE 1024\n"
          ]
        }
      ],
      "source": [
        "print(f\"BATCH_SIZE {BATCH_SIZE}\")"
      ],
      "id": "1470e6a7"
    },
    {
      "cell_type": "code",
      "execution_count": null,
      "metadata": {
        "id": "ec3aee9d"
      },
      "outputs": [],
      "source": [
        "# # setup\n",
        "# device = torch.device('cuda' if torch.cuda.is_available() else 'cpu')\n",
        "# print(f\"Using device {device}.\")\n",
        "\n",
        "\n",
        "# model = model.to(device)\n",
        "# model.train()\n",
        "\n",
        "# # add decay to avoid overfit\n",
        "# optimizer = optim.Adam(model.parameters(), lr=LR, weight_decay=0.01)\n",
        "\n",
        "# scheduler = optim.lr_scheduler.ExponentialLR(optimizer, gamma=0.95)\n",
        "\n",
        "# edge_index = edge_index.to(device)\n",
        "# train_edge_index = train_edge_index\n",
        "# val_edge_index = val_edge_index\n",
        "\n",
        "\n",
        "# loss_func = nn.MSELoss()"
      ],
      "id": "ec3aee9d"
    },
    {
      "cell_type": "code",
      "execution_count": null,
      "metadata": {
        "id": "38817a54"
      },
      "outputs": [],
      "source": [
        " def get_recall_at_k(input_edge_index, \n",
        "                     input_edge_values, # the true label of actual ratings for each user/item interaction\n",
        "                     pred_ratings, # the list of predicted ratings\n",
        "                     k=10, \n",
        "                     threshold=2.0):\n",
        "    with torch.no_grad():\n",
        "        user_item_rating_list = defaultdict(list)\n",
        "\n",
        "        for i in range(len(input_edge_index[0])):\n",
        "            src = input_edge_index[0][i].item()\n",
        "            dest = input_edge_index[1][i].item()\n",
        "            true_rating = input_edge_values[i].item()\n",
        "            pred_rating = pred_ratings[i].item()\n",
        "\n",
        "            user_item_rating_list[src].append((pred_rating, true_rating))\n",
        "\n",
        "        recalls = dict()\n",
        "        precisions = dict()\n",
        "\n",
        "        for user_id, user_ratings in user_item_rating_list.items():\n",
        "            user_ratings.sort(key=lambda x: x[0], reverse=True)\n",
        "\n",
        "            n_rel = sum((true_r >= threshold) for (_, true_r) in user_ratings)\n",
        "\n",
        "            n_rec_k = sum((est >= threshold) for (est, _) in user_ratings[:k])\n",
        "            \n",
        "            n_rel_and_rec_k = sum(\n",
        "                ((true_r >= threshold) and (est >= threshold))\n",
        "                for (est, true_r) in user_ratings[:k]\n",
        "            )\n",
        "\n",
        "            precisions[user_id] = n_rel_and_rec_k / n_rec_k if n_rec_k != 0 else 0\n",
        "            recalls[user_id] = n_rel_and_rec_k / n_rel if n_rel != 0 else 0\n",
        "\n",
        "        overall_recall = sum(rec for rec in recalls.values()) / len(recalls)\n",
        "        overall_precision = sum(prec for prec in precisions.values()) / len(precisions)\n",
        "\n",
        "        return overall_recall, overall_precision\n",
        "    "
      ],
      "id": "38817a54"
    },
    {
      "cell_type": "code",
      "execution_count": null,
      "metadata": {
        "id": "b002fba3"
      },
      "outputs": [],
      "source": [
        "r_mat_train_edge_index, r_mat_train_edge_values = convert_adj_mat_edge_index_to_r_mat_edge_index(train_edge_index, train_edge_values)\n",
        "r_mat_val_edge_index, r_mat_val_edge_values = convert_adj_mat_edge_index_to_r_mat_edge_index(val_edge_index, val_edge_values)\n",
        "r_mat_test_edge_index, r_mat_test_edge_values = convert_adj_mat_edge_index_to_r_mat_edge_index(test_edge_index, test_edge_values)\n"
      ],
      "id": "b002fba3"
    },
    {
      "cell_type": "code",
      "execution_count": null,
      "metadata": {
        "id": "0LLbFDidhsRW",
        "colab": {
          "base_uri": "https://localhost:8080/"
        },
        "outputId": "e8a05dc5-f941-4fbd-a583-d248357cc7f2"
      },
      "outputs": [
        {
          "output_type": "stream",
          "name": "stdout",
          "text": [
            "Using device cuda.\n"
          ]
        }
      ],
      "source": [
        "# setup\n",
        "device = torch.device('cuda' if torch.cuda.is_available() else 'cpu')\n",
        "print(f\"Using device {device}.\")\n",
        "\n",
        "\n",
        "model = model.to('cuda:0')\n",
        "model.train()\n",
        "\n",
        "# add decay to avoid overfit\n",
        "optimizer = optim.Adam(model.parameters(), lr=LR, weight_decay=0.01)\n",
        "\n",
        "scheduler = optim.lr_scheduler.ExponentialLR(optimizer, gamma=0.95)\n",
        "\n",
        "edge_index = edge_index\n",
        "train_edge_index = train_edge_index\n",
        "val_edge_index = val_edge_index\n",
        "\n",
        "\n",
        "loss_func = nn.MSELoss()"
      ],
      "id": "0LLbFDidhsRW"
    },
    {
      "cell_type": "code",
      "execution_count": null,
      "metadata": {
        "id": "BNN4IbmDpLAQ",
        "colab": {
          "base_uri": "https://localhost:8080/"
        },
        "outputId": "2f0d2621-18bf-494f-e3ab-4b5ef0081ebc"
      },
      "outputs": [
        {
          "output_type": "execute_result",
          "data": {
            "text/plain": [
              "tensor([[    0,     0,     0,  ..., 10312, 10316, 10327],\n",
              "        [  612,   699,   924,  ...,   247,    49,   183]])"
            ]
          },
          "metadata": {},
          "execution_count": 28
        }
      ],
      "source": [
        "val_edge_index"
      ],
      "id": "BNN4IbmDpLAQ"
    },
    {
      "cell_type": "code",
      "execution_count": null,
      "metadata": {
        "id": "53d7b752",
        "colab": {
          "base_uri": "https://localhost:8080/",
          "height": 1000,
          "referenced_widgets": [
            "8ca9992d103549709ff2ab5e9474a1be",
            "9d55ac9e06fe4067926a028c18e247cb",
            "b96a63202f634b13a5af1446d2ec3108",
            "1f46d4b02fc248a4b16a50ee9c773680",
            "1b815a77fb234858aa737e4a498c1aa1",
            "b93e786fa0b641d696d09790c18fccc5",
            "a83faf79ee7c4342bfad785dad2dcf4f",
            "977189cbbeb943bfa4b0e165f4b30ff2",
            "d77236b444d541cf91b5dc3c38f99623",
            "0c283d1b366348b4a55663d05bfe0569",
            "58c8302a45d843f7a43991b31ea1957c"
          ]
        },
        "outputId": "f9c61ef3-29fc-420f-e79a-9e61e56852f2"
      },
      "outputs": [
        {
          "output_type": "stream",
          "name": "stdout",
          "text": [
            "cuda\n"
          ]
        },
        {
          "output_type": "display_data",
          "data": {
            "text/plain": [
              "  0%|          | 0/15000 [00:00<?, ?it/s]"
            ],
            "application/vnd.jupyter.widget-view+json": {
              "version_major": 2,
              "version_minor": 0,
              "model_id": "8ca9992d103549709ff2ab5e9474a1be"
            }
          },
          "metadata": {}
        },
        {
          "output_type": "stream",
          "name": "stdout",
          "text": [
            "[Iteration 0/15000], train_loss: 14.06495, val_loss: 14.03049,  recall_at_k 0.0, precision_at_k 0.0\n",
            "[Iteration 200/15000], train_loss: 2.45626, val_loss: 2.57442,  recall_at_k 0.40869, precision_at_k 0.69445\n",
            "[Iteration 400/15000], train_loss: 1.57813, val_loss: 1.65227,  recall_at_k 0.67501, precision_at_k 0.83988\n",
            "[Iteration 600/15000], train_loss: 1.33007, val_loss: 1.39665,  recall_at_k 0.7698, precision_at_k 0.88651\n",
            "[Iteration 800/15000], train_loss: 1.20246, val_loss: 1.26532,  recall_at_k 0.82568, precision_at_k 0.90948\n",
            "[Iteration 1000/15000], train_loss: 1.12117, val_loss: 1.18179,  recall_at_k 0.86086, precision_at_k 0.9223\n",
            "[Iteration 1200/15000], train_loss: 1.06354, val_loss: 1.12274,  recall_at_k 0.89148, precision_at_k 0.93185\n",
            "[Iteration 1400/15000], train_loss: 1.01997, val_loss: 1.07821,  recall_at_k 0.90642, precision_at_k 0.9373\n",
            "[Iteration 1600/15000], train_loss: 0.98561, val_loss: 1.04311,  recall_at_k 0.92894, precision_at_k 0.94622\n",
            "[Iteration 1800/15000], train_loss: 0.95766, val_loss: 1.01456,  recall_at_k 0.94044, precision_at_k 0.94531\n",
            "[Iteration 2000/15000], train_loss: 0.93441, val_loss: 0.99076,  recall_at_k 0.94896, precision_at_k 0.94457\n",
            "[Iteration 2200/15000], train_loss: 0.91476, val_loss: 0.97056,  recall_at_k 0.956, precision_at_k 0.94825\n",
            "[Iteration 2400/15000], train_loss: 0.89794, val_loss: 0.95316,  recall_at_k 0.96362, precision_at_k 0.94964\n",
            "[Iteration 2600/15000], train_loss: 0.88338, val_loss: 0.93801,  recall_at_k 0.96547, precision_at_k 0.94894\n",
            "[Iteration 2800/15000], train_loss: 0.87071, val_loss: 0.9247,  recall_at_k 0.97226, precision_at_k 0.95278\n",
            "[Iteration 3000/15000], train_loss: 0.85961, val_loss: 0.91292,  recall_at_k 0.97407, precision_at_k 0.95198\n",
            "[Iteration 3200/15000], train_loss: 0.84985, val_loss: 0.90246,  recall_at_k 0.97641, precision_at_k 0.95209\n",
            "[Iteration 3400/15000], train_loss: 0.84126, val_loss: 0.8931,  recall_at_k 0.97934, precision_at_k 0.95148\n",
            "[Iteration 3600/15000], train_loss: 0.83367, val_loss: 0.88473,  recall_at_k 0.98051, precision_at_k 0.95079\n",
            "[Iteration 3800/15000], train_loss: 0.82696, val_loss: 0.87724,  recall_at_k 0.98273, precision_at_k 0.95229\n",
            "[Iteration 4000/15000], train_loss: 0.82104, val_loss: 0.87047,  recall_at_k 0.98515, precision_at_k 0.9526\n",
            "[Iteration 4200/15000], train_loss: 0.81581, val_loss: 0.86441,  recall_at_k 0.98556, precision_at_k 0.9526\n",
            "[Iteration 4400/15000], train_loss: 0.81121, val_loss: 0.85896,  recall_at_k 0.98624, precision_at_k 0.95434\n",
            "[Iteration 4600/15000], train_loss: 0.80715, val_loss: 0.85407,  recall_at_k 0.98915, precision_at_k 0.95431\n",
            "[Iteration 4800/15000], train_loss: 0.80359, val_loss: 0.84965,  recall_at_k 0.98988, precision_at_k 0.95435\n",
            "[Iteration 5000/15000], train_loss: 0.80047, val_loss: 0.8457,  recall_at_k 0.98997, precision_at_k 0.95437\n",
            "[Iteration 5200/15000], train_loss: 0.79775, val_loss: 0.84214,  recall_at_k 0.99136, precision_at_k 0.9559\n",
            "[Iteration 5400/15000], train_loss: 0.79537, val_loss: 0.83895,  recall_at_k 0.99169, precision_at_k 0.95595\n",
            "[Iteration 5600/15000], train_loss: 0.7933, val_loss: 0.83607,  recall_at_k 0.99203, precision_at_k 0.95517\n",
            "[Iteration 5800/15000], train_loss: 0.7915, val_loss: 0.83349,  recall_at_k 0.99203, precision_at_k 0.95517\n",
            "[Iteration 6000/15000], train_loss: 0.78994, val_loss: 0.83117,  recall_at_k 0.99244, precision_at_k 0.95517\n",
            "[Iteration 6200/15000], train_loss: 0.78861, val_loss: 0.82904,  recall_at_k 0.99244, precision_at_k 0.95476\n",
            "[Iteration 6400/15000], train_loss: 0.78742, val_loss: 0.8272,  recall_at_k 0.993, precision_at_k 0.95392\n",
            "[Iteration 6600/15000], train_loss: 0.78641, val_loss: 0.8255,  recall_at_k 0.99342, precision_at_k 0.95392\n",
            "[Iteration 6800/15000], train_loss: 0.78553, val_loss: 0.82396,  recall_at_k 0.99458, precision_at_k 0.95426\n",
            "[Iteration 7000/15000], train_loss: 0.78477, val_loss: 0.82257,  recall_at_k 0.99458, precision_at_k 0.95426\n",
            "[Iteration 7200/15000], train_loss: 0.7841, val_loss: 0.82132,  recall_at_k 0.99458, precision_at_k 0.95384\n",
            "[Iteration 7400/15000], train_loss: 0.78353, val_loss: 0.82016,  recall_at_k 0.99458, precision_at_k 0.95384\n",
            "[Iteration 7600/15000], train_loss: 0.78299, val_loss: 0.81916,  recall_at_k 0.995, precision_at_k 0.95392\n",
            "[Iteration 7800/15000], train_loss: 0.78257, val_loss: 0.81815,  recall_at_k 0.99556, precision_at_k 0.9542\n",
            "[Iteration 8000/15000], train_loss: 0.78217, val_loss: 0.81727,  recall_at_k 0.99611, precision_at_k 0.9542\n",
            "[Iteration 8200/15000], train_loss: 0.78181, val_loss: 0.81645,  recall_at_k 0.99611, precision_at_k 0.9542\n",
            "[Iteration 8400/15000], train_loss: 0.7815, val_loss: 0.81569,  recall_at_k 0.99611, precision_at_k 0.9542\n",
            "[Iteration 8600/15000], train_loss: 0.7812, val_loss: 0.815,  recall_at_k 0.99611, precision_at_k 0.9542\n",
            "[Iteration 8800/15000], train_loss: 0.78093, val_loss: 0.81436,  recall_at_k 0.99611, precision_at_k 0.9542\n",
            "[Iteration 9000/15000], train_loss: 0.78068, val_loss: 0.81375,  recall_at_k 0.99667, precision_at_k 0.95434\n",
            "[Iteration 9200/15000], train_loss: 0.7804, val_loss: 0.81326,  recall_at_k 0.99667, precision_at_k 0.95434\n",
            "[Iteration 9400/15000], train_loss: 0.78024, val_loss: 0.81266,  recall_at_k 0.99667, precision_at_k 0.95434\n",
            "[Iteration 9600/15000], train_loss: 0.78005, val_loss: 0.81217,  recall_at_k 0.99667, precision_at_k 0.95434\n",
            "[Iteration 9800/15000], train_loss: 0.77989, val_loss: 0.81168,  recall_at_k 0.99667, precision_at_k 0.95434\n",
            "[Iteration 10000/15000], train_loss: 0.77968, val_loss: 0.81127,  recall_at_k 0.99667, precision_at_k 0.95434\n",
            "[Iteration 10200/15000], train_loss: 0.77951, val_loss: 0.81086,  recall_at_k 0.99667, precision_at_k 0.95434\n",
            "[Iteration 10400/15000], train_loss: 0.77936, val_loss: 0.81046,  recall_at_k 0.99667, precision_at_k 0.95434\n",
            "[Iteration 10600/15000], train_loss: 0.7792, val_loss: 0.8101,  recall_at_k 0.99667, precision_at_k 0.95434\n",
            "[Iteration 10800/15000], train_loss: 0.77905, val_loss: 0.80975,  recall_at_k 0.99667, precision_at_k 0.95434\n",
            "[Iteration 11000/15000], train_loss: 0.77889, val_loss: 0.80943,  recall_at_k 0.99667, precision_at_k 0.95434\n",
            "[Iteration 11200/15000], train_loss: 0.77878, val_loss: 0.80911,  recall_at_k 0.99667, precision_at_k 0.95409\n",
            "[Iteration 11400/15000], train_loss: 0.77865, val_loss: 0.80881,  recall_at_k 0.99667, precision_at_k 0.95409\n",
            "[Iteration 11600/15000], train_loss: 0.77852, val_loss: 0.80853,  recall_at_k 0.99667, precision_at_k 0.95409\n",
            "[Iteration 11800/15000], train_loss: 0.7784, val_loss: 0.80826,  recall_at_k 0.99667, precision_at_k 0.95409\n",
            "[Iteration 12000/15000], train_loss: 0.77829, val_loss: 0.808,  recall_at_k 0.99667, precision_at_k 0.95409\n",
            "[Iteration 12200/15000], train_loss: 0.77816, val_loss: 0.80777,  recall_at_k 0.99667, precision_at_k 0.95409\n",
            "[Iteration 12400/15000], train_loss: 0.77806, val_loss: 0.80754,  recall_at_k 0.99667, precision_at_k 0.95409\n",
            "[Iteration 12600/15000], train_loss: 0.77795, val_loss: 0.80732,  recall_at_k 0.99667, precision_at_k 0.95409\n",
            "[Iteration 12800/15000], train_loss: 0.77786, val_loss: 0.80711,  recall_at_k 0.99667, precision_at_k 0.95409\n",
            "[Iteration 13000/15000], train_loss: 0.77776, val_loss: 0.80691,  recall_at_k 0.99667, precision_at_k 0.95409\n",
            "[Iteration 13200/15000], train_loss: 0.77767, val_loss: 0.80672,  recall_at_k 0.99667, precision_at_k 0.95409\n",
            "[Iteration 13400/15000], train_loss: 0.77758, val_loss: 0.80654,  recall_at_k 0.99667, precision_at_k 0.95409\n",
            "[Iteration 13600/15000], train_loss: 0.77749, val_loss: 0.80637,  recall_at_k 0.99667, precision_at_k 0.95409\n",
            "[Iteration 13800/15000], train_loss: 0.77741, val_loss: 0.80621,  recall_at_k 0.99667, precision_at_k 0.95409\n",
            "[Iteration 14000/15000], train_loss: 0.77733, val_loss: 0.80605,  recall_at_k 0.99667, precision_at_k 0.95409\n",
            "[Iteration 14200/15000], train_loss: 0.77725, val_loss: 0.80591,  recall_at_k 0.99667, precision_at_k 0.95409\n",
            "[Iteration 14400/15000], train_loss: 0.77719, val_loss: 0.80577,  recall_at_k 0.99667, precision_at_k 0.95409\n",
            "[Iteration 14600/15000], train_loss: 0.77712, val_loss: 0.80563,  recall_at_k 0.99667, precision_at_k 0.95409\n",
            "[Iteration 14800/15000], train_loss: 0.77707, val_loss: 0.80549,  recall_at_k 0.99667, precision_at_k 0.95409\n"
          ]
        }
      ],
      "source": [
        "# training loop\n",
        "train_losses = []\n",
        "val_losses = []\n",
        "val_recall_at_ks = []\n",
        "print(device)\n",
        "\n",
        "for iter in tqdm(range(ITERATIONS)):\n",
        "    # forward propagation\n",
        "\n",
        "    # the rating here is based on r_mat\n",
        "    pred_ratings = model.forward(train_edge_index.to('cuda:0'), train_edge_values.to('cuda:0'))\n",
        "    \n",
        "\n",
        "    train_loss = loss_func(pred_ratings, r_mat_train_edge_values.view(-1,1).to('cuda:0'))    \n",
        "\n",
        "        \n",
        "    optimizer.zero_grad()\n",
        "    train_loss.backward()\n",
        "    optimizer.step()\n",
        "\n",
        "    # going over validation set\n",
        "    if iter % ITERS_PER_EVAL == 0:\n",
        "        model.eval()\n",
        "        with torch.no_grad():\n",
        "            val_pred_ratings = model.forward(val_edge_index.to(device), val_edge_values.to(device))\n",
        "            \n",
        "            val_loss = loss_func(val_pred_ratings.to('cuda:0'), r_mat_val_edge_values.view(-1,1).to('cuda:0')).sum()\n",
        "            \n",
        "            recall_at_k, precision_at_k = get_recall_at_k(r_mat_val_edge_index, \n",
        "                                                          r_mat_val_edge_values, \n",
        "                                                          val_pred_ratings, \n",
        "                                                          k = 2000\n",
        "                                                         )\n",
        "    \n",
        "                \n",
        "            val_recall_at_ks.append(round(recall_at_k, 5))\n",
        "            train_losses.append(train_loss.item())\n",
        "            val_losses.append(val_loss.item())\n",
        "        \n",
        "            print(f\"[Iteration {iter}/{ITERATIONS}], train_loss: {round(train_loss.item(), 5)}, val_loss: {round(val_loss.item(), 5)},  recall_at_k {round(recall_at_k, 5)}, precision_at_k {round(precision_at_k, 5)}\")\n",
        "\n",
        "        model.train()\n",
        "\n",
        "    if iter % ITERS_PER_LR_DECAY == 0 and iter != 0:\n",
        "        scheduler.step()"
      ],
      "id": "53d7b752"
    },
    {
      "cell_type": "markdown",
      "metadata": {
        "id": "58187223"
      },
      "source": [
        "# Plot (RMSE)"
      ],
      "id": "58187223"
    },
    {
      "cell_type": "code",
      "execution_count": null,
      "metadata": {
        "id": "30685ec8",
        "colab": {
          "base_uri": "https://localhost:8080/",
          "height": 295
        },
        "outputId": "9c949eec-ffcd-4a75-d0e1-4800dc067e1d"
      },
      "outputs": [
        {
          "output_type": "display_data",
          "data": {
            "text/plain": [
              "<Figure size 432x288 with 1 Axes>"
            ],
            "image/png": "[encoded data removed]"
          },
          "metadata": {
            "needs_background": "light"
          }
        }
      ],
      "source": [
        "iters = [iter * ITERS_PER_EVAL for iter in range(len(train_losses))]\n",
        "plt.plot(iters, train_losses, label='train')\n",
        "plt.plot(iters, val_losses, label=\n",
        "         'validation')\n",
        "plt.xlabel('iteration')\n",
        "plt.ylabel('loss')\n",
        "plt.title('training and validation loss curves')\n",
        "plt.legend()\n",
        "plt.show()"
      ],
      "id": "30685ec8"
    },
    {
      "cell_type": "markdown",
      "metadata": {
        "id": "7cb9b880"
      },
      "source": [
        "[link text](https://)# Evaluation (RMSE)"
      ],
      "id": "7cb9b880"
    },
    {
      "cell_type": "code",
      "execution_count": null,
      "metadata": {
        "id": "9fbabdb0",
        "colab": {
          "base_uri": "https://localhost:8080/"
        },
        "outputId": "6256c40c-b53d-42c8-cb5d-835c02c48fec"
      },
      "outputs": [
        {
          "output_type": "stream",
          "name": "stdout",
          "text": [
            "recall_at_k 0.89858, precision_at_k 0.95961 , pred_ratings tensor([[4.6137],\n",
            "        [3.9824],\n",
            "        [4.0588],\n",
            "        ...,\n",
            "        [3.3870],\n",
            "        [3.4494],\n",
            "        [3.3713]], device='cuda:0')\n"
          ]
        }
      ],
      "source": [
        "model.eval()\n",
        "with torch.no_grad():\n",
        "    pred_ratings = model.forward(test_edge_index.to('cuda:0'), test_edge_values.to('cuda:0'))\n",
        "    recall_at_k, precision_at_k = get_recall_at_k(r_mat_test_edge_index, \n",
        "                                                  r_mat_test_edge_values, \n",
        "                                                  pred_ratings, 20)\n",
        "    print(f\"recall_at_k {round(recall_at_k, 5)}, precision_at_k {round(precision_at_k, 5)} , pred_ratings {pred_ratings}\")\n"
      ],
      "id": "9fbabdb0"
    },
    {
      "cell_type": "code",
      "execution_count": null,
      "metadata": {
        "id": "f7mh5VLUS2h8"
      },
      "outputs": [],
      "source": [
        "test_edge_index, test_edge_values = convert_adj_mat_edge_index_to_r_mat_edge_index(test_edge_index, test_edge_values)"
      ],
      "id": "f7mh5VLUS2h8"
    },
    {
      "cell_type": "code",
      "execution_count": null,
      "metadata": {
        "id": "e1Nbz8Pf7Dbc",
        "colab": {
          "base_uri": "https://localhost:8080/"
        },
        "outputId": "358e8a38-7448-4f59-bfea-448ac1920080"
      },
      "outputs": [
        {
          "output_type": "execute_result",
          "data": {
            "text/plain": [
              "torch.Size([2, 9947])"
            ]
          },
          "metadata": {},
          "execution_count": 34
        }
      ],
      "source": [
        "test_edge_index.size()"
      ],
      "id": "e1Nbz8Pf7Dbc"
    },
    {
      "cell_type": "code",
      "execution_count": null,
      "metadata": {
        "id": "GwV6lZc67P0N",
        "colab": {
          "base_uri": "https://localhost:8080/"
        },
        "outputId": "d8b98b60-6393-48ba-e577-18376f773243"
      },
      "outputs": [
        {
          "output_type": "execute_result",
          "data": {
            "text/plain": [
              "torch.Size([9947])"
            ]
          },
          "metadata": {},
          "execution_count": 35
        }
      ],
      "source": [
        "test_edge_values.size(\n",
        ")"
      ],
      "id": "GwV6lZc67P0N"
    },
    {
      "cell_type": "code",
      "execution_count": null,
      "metadata": {
        "id": "e5eaf75a",
        "colab": {
          "base_uri": "https://localhost:8080/"
        },
        "outputId": "920202d8-7897-45a8-9437-99dddf4e26e8"
      },
      "outputs": [
        {
          "output_type": "execute_result",
          "data": {
            "text/plain": [
              "torch.Size([9947, 1])"
            ]
          },
          "metadata": {},
          "execution_count": 36
        }
      ],
      "source": [
        "pred_ratings.shape"
      ],
      "id": "e5eaf75a"
    },
    {
      "cell_type": "code",
      "execution_count": null,
      "metadata": {
        "id": "UyubC8MdOTpt"
      },
      "outputs": [],
      "source": [
        "df = {'user':np.array(test_edge_index[0]),'movie': np.array(test_edge_index[1]), 'rating':np.array(test_edge_values) }\n",
        "df_out = pd.DataFrame(df)"
      ],
      "id": "UyubC8MdOTpt"
    },
    {
      "cell_type": "code",
      "execution_count": null,
      "metadata": {
        "id": "KGQWsr7EOgDS"
      },
      "outputs": [],
      "source": [
        "df_out['pred_round']= np.array(Tensor.cpu(pred_ratings)).reshape(9947,)"
      ],
      "id": "KGQWsr7EOgDS"
    },
    {
      "cell_type": "code",
      "source": [
        "from sklearn.metrics import mean_squared_error\n",
        "\n",
        "rmse = mean_squared_error(df_out['pred_round'], df_out['rating'], squared=False)\n",
        "print('rmse = ' , rmse)"
      ],
      "metadata": {
        "colab": {
          "base_uri": "https://localhost:8080/"
        },
        "id": "Z1ruM8TiU9V5",
        "outputId": "140f1994-13a4-4078-e608-064a8e21f9fc"
      },
      "id": "Z1ruM8TiU9V5",
      "execution_count": null,
      "outputs": [
        {
          "output_type": "stream",
          "name": "stdout",
          "text": [
            "rmse =  0.3398214\n"
          ]
        }
      ]
    },
    {
      "cell_type": "code",
      "execution_count": null,
      "metadata": {
        "id": "0GjP8ysJMTKA"
      },
      "outputs": [],
      "source": [
        "from pathlib import Path  \n",
        "filepath = Path('outLightGCN.csv')  \n",
        "filepath.parent.mkdir(parents=True, exist_ok=True)  \n",
        "df_out.to_csv(filepath,index=False)"
      ],
      "id": "0GjP8ysJMTKA"
    },
    {
      "cell_type": "code",
      "execution_count": null,
      "metadata": {
        "id": "j5Fu8zdx5F2w"
      },
      "outputs": [],
      "source": [
        "movie_df = pd.read_csv(movie_path)"
      ],
      "id": "j5Fu8zdx5F2w"
    },
    {
      "cell_type": "code",
      "source": [
        "movie_df.head()"
      ],
      "metadata": {
        "colab": {
          "base_uri": "https://localhost:8080/",
          "height": 206
        },
        "id": "CmztXC8aX5uN",
        "outputId": "6c9c7296-25c6-4eb1-e836-fac4d801251d"
      },
      "id": "CmztXC8aX5uN",
      "execution_count": null,
      "outputs": [
        {
          "output_type": "execute_result",
          "data": {
            "text/plain": [
              "   movieId                               title  \\\n",
              "0        1                    Toy Story (1995)   \n",
              "1        2                      Jumanji (1995)   \n",
              "2        3             Grumpier Old Men (1995)   \n",
              "3        4            Waiting to Exhale (1995)   \n",
              "4        5  Father of the Bride Part II (1995)   \n",
              "\n",
              "                                        genres  \n",
              "0  Adventure|Animation|Children|Comedy|Fantasy  \n",
              "1                   Adventure|Children|Fantasy  \n",
              "2                               Comedy|Romance  \n",
              "3                         Comedy|Drama|Romance  \n",
              "4                                       Comedy  "
            ],
            "text/html": [
              "\n",
              "  <div id=\"df-efa351b5-e93d-4b80-a0e1-a2395bf089b1\">\n",
              "    <div class=\"colab-df-container\">\n",
              "      <div>\n",
              "<style scoped>\n",
              "    .dataframe tbody tr th:only-of-type {\n",
              "        vertical-align: middle;\n",
              "    }\n",
              "\n",
              "    .dataframe tbody tr th {\n",
              "        vertical-align: top;\n",
              "    }\n",
              "\n",
              "    .dataframe thead th {\n",
              "        text-align: right;\n",
              "    }\n",
              "</style>\n",
              "<table border=\"1\" class=\"dataframe\">\n",
              "  <thead>\n",
              "    <tr style=\"text-align: right;\">\n",
              "      <th></th>\n",
              "      <th>movieId</th>\n",
              "      <th>title</th>\n",
              "      <th>genres</th>\n",
              "    </tr>\n",
              "  </thead>\n",
              "  <tbody>\n",
              "    <tr>\n",
              "      <th>0</th>\n",
              "      <td>1</td>\n",
              "      <td>Toy Story (1995)</td>\n",
              "      <td>Adventure|Animation|Children|Comedy|Fantasy</td>\n",
              "    </tr>\n",
              "    <tr>\n",
              "      <th>1</th>\n",
              "      <td>2</td>\n",
              "      <td>Jumanji (1995)</td>\n",
              "      <td>Adventure|Children|Fantasy</td>\n",
              "    </tr>\n",
              "    <tr>\n",
              "      <th>2</th>\n",
              "      <td>3</td>\n",
              "      <td>Grumpier Old Men (1995)</td>\n",
              "      <td>Comedy|Romance</td>\n",
              "    </tr>\n",
              "    <tr>\n",
              "      <th>3</th>\n",
              "      <td>4</td>\n",
              "      <td>Waiting to Exhale (1995)</td>\n",
              "      <td>Comedy|Drama|Romance</td>\n",
              "    </tr>\n",
              "    <tr>\n",
              "      <th>4</th>\n",
              "      <td>5</td>\n",
              "      <td>Father of the Bride Part II (1995)</td>\n",
              "      <td>Comedy</td>\n",
              "    </tr>\n",
              "  </tbody>\n",
              "</table>\n",
              "</div>\n",
              "      <button class=\"colab-df-convert\" onclick=\"convertToInteractive('df-efa351b5-e93d-4b80-a0e1-a2395bf089b1')\"\n",
              "              title=\"Convert this dataframe to an interactive table.\"\n",
              "              style=\"display:none;\">\n",
              "        \n",
              "  <svg xmlns=\"http://www.w3.org/2000/svg\" height=\"24px\"viewBox=\"0 0 24 24\"\n",
              "       width=\"24px\">\n",
              "    <path d=\"M0 0h24v24H0V0z\" fill=\"none\"/>\n",
              "    <path d=\"M18.56 5.44l.94 2.06.94-2.06 2.06-.94-2.06-.94-.94-2.06-.94 2.06-2.06.94zm-11 1L8.5 8.5l.94-2.06 2.06-.94-2.06-.94L8.5 2.5l-.94 2.06-2.06.94zm10 10l.94 2.06.94-2.06 2.06-.94-2.06-.94-.94-2.06-.94 2.06-2.06.94z\"/><path d=\"M17.41 7.96l-1.37-1.37c-.4-.4-.92-.59-1.43-.59-.52 0-1.04.2-1.43.59L10.3 9.45l-7.72 7.72c-.78.78-.78 2.05 0 2.83L4 21.41c.39.39.9.59 1.41.59.51 0 1.02-.2 1.41-.59l7.78-7.78 2.81-2.81c.8-.78.8-2.07 0-2.86zM5.41 20L4 18.59l7.72-7.72 1.47 1.35L5.41 20z\"/>\n",
              "  </svg>\n",
              "      </button>\n",
              "      \n",
              "  <style>\n",
              "    .colab-df-container {\n",
              "      display:flex;\n",
              "      flex-wrap:wrap;\n",
              "      gap: 12px;\n",
              "    }\n",
              "\n",
              "    .colab-df-convert {\n",
              "      background-color: #E8F0FE;\n",
              "      border: none;\n",
              "      border-radius: 50%;\n",
              "      cursor: pointer;\n",
              "      display: none;\n",
              "      fill: #1967D2;\n",
              "      height: 32px;\n",
              "      padding: 0 0 0 0;\n",
              "      width: 32px;\n",
              "    }\n",
              "\n",
              "    .colab-df-convert:hover {\n",
              "      background-color: #E2EBFA;\n",
              "      box-shadow: 0px 1px 2px rgba(60, 64, 67, 0.3), 0px 1px 3px 1px rgba(60, 64, 67, 0.15);\n",
              "      fill: #174EA6;\n",
              "    }\n",
              "\n",
              "    [theme=dark] .colab-df-convert {\n",
              "      background-color: #3B4455;\n",
              "      fill: #D2E3FC;\n",
              "    }\n",
              "\n",
              "    [theme=dark] .colab-df-convert:hover {\n",
              "      background-color: #434B5C;\n",
              "      box-shadow: 0px 1px 3px 1px rgba(0, 0, 0, 0.15);\n",
              "      filter: drop-shadow(0px 1px 2px rgba(0, 0, 0, 0.3));\n",
              "      fill: #FFFFFF;\n",
              "    }\n",
              "  </style>\n",
              "\n",
              "      <script>\n",
              "        const buttonEl =\n",
              "          document.querySelector('#df-efa351b5-e93d-4b80-a0e1-a2395bf089b1 button.colab-df-convert');\n",
              "        buttonEl.style.display =\n",
              "          google.colab.kernel.accessAllowed ? 'block' : 'none';\n",
              "\n",
              "        async function convertToInteractive(key) {\n",
              "          const element = document.querySelector('#df-efa351b5-e93d-4b80-a0e1-a2395bf089b1');\n",
              "          const dataTable =\n",
              "            await google.colab.kernel.invokeFunction('convertToInteractive',\n",
              "                                                     [key], {});\n",
              "          if (!dataTable) return;\n",
              "\n",
              "          const docLinkHtml = 'Like what you see? Visit the ' +\n",
              "            '<a target=\"_blank\" href=https://colab.research.google.com/notebooks/data_table.ipynb>data table notebook</a>'\n",
              "            + ' to learn more about interactive tables.';\n",
              "          element.innerHTML = '';\n",
              "          dataTable['output_type'] = 'display_data';\n",
              "          await google.colab.output.renderOutput(dataTable, element);\n",
              "          const docLink = document.createElement('div');\n",
              "          docLink.innerHTML = docLinkHtml;\n",
              "          element.appendChild(docLink);\n",
              "        }\n",
              "      </script>\n",
              "    </div>\n",
              "  </div>\n",
              "  "
            ]
          },
          "metadata": {},
          "execution_count": 43
        }
      ]
    },
    {
      "cell_type": "code",
      "source": [
        "from tqdm.notebook import tqdm\n",
        "for i in tqdm(range(len(movie_df['movieId']))):\n",
        "  for j in range(len(df_out['movie'])):\n",
        "    if df_out['movie'][j] == movie_df['movieId'][i]:\n",
        "      df_out['movie'][j] = movie_df['title'][i]"
      ],
      "metadata": {
        "id": "HwwQScNsX8HS",
        "colab": {
          "base_uri": "https://localhost:8080/",
          "height": 223,
          "referenced_widgets": [
            "a5dc58f022ca4b46a27ddd121f6cf649",
            "7e61a88dfee547f8842cd0081f84c5d8",
            "81b8550003fe4d94b6f326c5b72abf44",
            "8c555456650847cd8efc3530a6790df1",
            "eba7b61b7d404505a4fb396bc0cf5999",
            "da9ae182a578444295815c91d7ff1818",
            "b84ddbf61b5847b5b3887a2b2e4ed98a",
            "f6104853ebe545db838c97d1b1ab6823",
            "e508acf5575a481e90ab78811421d93e",
            "790484a36d9d41509e1cd4deabf5a65c",
            "e23a4629e4a648a6912181ea31215b7b"
          ]
        },
        "outputId": "8c5166f2-c655-4ea7-94fb-d3887b90d394"
      },
      "id": "HwwQScNsX8HS",
      "execution_count": null,
      "outputs": [
        {
          "output_type": "display_data",
          "data": {
            "text/plain": [
              "  0%|          | 0/9742 [00:00<?, ?it/s]"
            ],
            "application/vnd.jupyter.widget-view+json": {
              "version_major": 2,
              "version_minor": 0,
              "model_id": "a5dc58f022ca4b46a27ddd121f6cf649"
            }
          },
          "metadata": {}
        },
        {
          "output_type": "stream",
          "name": "stderr",
          "text": [
            "<ipython-input-50-87624956c194>:5: SettingWithCopyWarning: \n",
            "A value is trying to be set on a copy of a slice from a DataFrame\n",
            "\n",
            "See the caveats in the documentation: https://pandas.pydata.org/pandas-docs/stable/user_guide/indexing.html#returning-a-view-versus-a-copy\n",
            "  df_out['movie'][j] = movie_df['title'][i]\n",
            "/usr/local/lib/python3.8/dist-packages/pandas/core/indexing.py:1732: SettingWithCopyWarning: \n",
            "A value is trying to be set on a copy of a slice from a DataFrame\n",
            "\n",
            "See the caveats in the documentation: https://pandas.pydata.org/pandas-docs/stable/user_guide/indexing.html#returning-a-view-versus-a-copy\n",
            "  self._setitem_single_block(indexer, value, name)\n"
          ]
        }
      ]
    },
    {
      "cell_type": "code",
      "source": [],
      "metadata": {
        "id": "n8l1M8qC26uK"
      },
      "id": "n8l1M8qC26uK",
      "execution_count": null,
      "outputs": []
    }
  ],
  "metadata": {
    "accelerator": "GPU",
    "colab": {
      "provenance": [],
      "include_colab_link": true
    },
    "gpuClass": "standard",
    "kernelspec": {
      "display_name": "Python 3 (ipykernel)",
      "language": "python",
      "name": "python3"
    },
    "language_info": {
      "codemirror_mode": {
        "name": "ipython",
        "version": 3
      },
      "file_extension": ".py",
      "mimetype": "text/x-python",
      "name": "python",
      "nbconvert_exporter": "python",
      "pygments_lexer": "ipython3",
      "version": "3.7.13"
    },
    "widgets": {
      "application/vnd.jupyter.widget-state+json": {
        "8ca9992d103549709ff2ab5e9474a1be": {
          "model_module": "@jupyter-widgets/controls",
          "model_name": "HBoxModel",
          "model_module_version": "1.5.0",
          "state": {
            "_dom_classes": [],
            "_model_module": "@jupyter-widgets/controls",
            "_model_module_version": "1.5.0",
            "_model_name": "HBoxModel",
            "_view_count": null,
            "_view_module": "@jupyter-widgets/controls",
            "_view_module_version": "1.5.0",
            "_view_name": "HBoxView",
            "box_style": "",
            "children": [
              "IPY_MODEL_9d55ac9e06fe4067926a028c18e247cb",
              "IPY_MODEL_b96a63202f634b13a5af1446d2ec3108",
              "IPY_MODEL_1f46d4b02fc248a4b16a50ee9c773680"
            ],
            "layout": "IPY_MODEL_1b815a77fb234858aa737e4a498c1aa1"
          }
        },
        "9d55ac9e06fe4067926a028c18e247cb": {
          "model_module": "@jupyter-widgets/controls",
          "model_name": "HTMLModel",
          "model_module_version": "1.5.0",
          "state": {
            "_dom_classes": [],
            "_model_module": "@jupyter-widgets/controls",
            "_model_module_version": "1.5.0",
            "_model_name": "HTMLModel",
            "_view_count": null,
            "_view_module": "@jupyter-widgets/controls",
            "_view_module_version": "1.5.0",
            "_view_name": "HTMLView",
            "description": "",
            "description_tooltip": null,
            "layout": "IPY_MODEL_b93e786fa0b641d696d09790c18fccc5",
            "placeholder": "​",
            "style": "IPY_MODEL_a83faf79ee7c4342bfad785dad2dcf4f",
            "value": "100%"
          }
        },
        "b96a63202f634b13a5af1446d2ec3108": {
          "model_module": "@jupyter-widgets/controls",
          "model_name": "FloatProgressModel",
          "model_module_version": "1.5.0",
          "state": {
            "_dom_classes": [],
            "_model_module": "@jupyter-widgets/controls",
            "_model_module_version": "1.5.0",
            "_model_name": "FloatProgressModel",
            "_view_count": null,
            "_view_module": "@jupyter-widgets/controls",
            "_view_module_version": "1.5.0",
            "_view_name": "ProgressView",
            "bar_style": "success",
            "description": "",
            "description_tooltip": null,
            "layout": "IPY_MODEL_977189cbbeb943bfa4b0e165f4b30ff2",
            "max": 15000,
            "min": 0,
            "orientation": "horizontal",
            "style": "IPY_MODEL_d77236b444d541cf91b5dc3c38f99623",
            "value": 15000
          }
        },
        "1f46d4b02fc248a4b16a50ee9c773680": {
          "model_module": "@jupyter-widgets/controls",
          "model_name": "HTMLModel",
          "model_module_version": "1.5.0",
          "state": {
            "_dom_classes": [],
            "_model_module": "@jupyter-widgets/controls",
            "_model_module_version": "1.5.0",
            "_model_name": "HTMLModel",
            "_view_count": null,
            "_view_module": "@jupyter-widgets/controls",
            "_view_module_version": "1.5.0",
            "_view_name": "HTMLView",
            "description": "",
            "description_tooltip": null,
            "layout": "IPY_MODEL_0c283d1b366348b4a55663d05bfe0569",
            "placeholder": "​",
            "style": "IPY_MODEL_58c8302a45d843f7a43991b31ea1957c",
            "value": " 15000/15000 [03:00&lt;00:00, 93.52it/s]"
          }
        },
        "1b815a77fb234858aa737e4a498c1aa1": {
          "model_module": "@jupyter-widgets/base",
          "model_name": "LayoutModel",
          "model_module_version": "1.2.0",
          "state": {
            "_model_module": "@jupyter-widgets/base",
            "_model_module_version": "1.2.0",
            "_model_name": "LayoutModel",
            "_view_count": null,
            "_view_module": "@jupyter-widgets/base",
            "_view_module_version": "1.2.0",
            "_view_name": "LayoutView",
            "align_content": null,
            "align_items": null,
            "align_self": null,
            "border": null,
            "bottom": null,
            "display": null,
            "flex": null,
            "flex_flow": null,
            "grid_area": null,
            "grid_auto_columns": null,
            "grid_auto_flow": null,
            "grid_auto_rows": null,
            "grid_column": null,
            "grid_gap": null,
            "grid_row": null,
            "grid_template_areas": null,
            "grid_template_columns": null,
            "grid_template_rows": null,
            "height": null,
            "justify_content": null,
            "justify_items": null,
            "left": null,
            "margin": null,
            "max_height": null,
            "max_width": null,
            "min_height": null,
            "min_width": null,
            "object_fit": null,
            "object_position": null,
            "order": null,
            "overflow": null,
            "overflow_x": null,
            "overflow_y": null,
            "padding": null,
            "right": null,
            "top": null,
            "visibility": null,
            "width": null
          }
        },
        "b93e786fa0b641d696d09790c18fccc5": {
          "model_module": "@jupyter-widgets/base",
          "model_name": "LayoutModel",
          "model_module_version": "1.2.0",
          "state": {
            "_model_module": "@jupyter-widgets/base",
            "_model_module_version": "1.2.0",
            "_model_name": "LayoutModel",
            "_view_count": null,
            "_view_module": "@jupyter-widgets/base",
            "_view_module_version": "1.2.0",
            "_view_name": "LayoutView",
            "align_content": null,
            "align_items": null,
            "align_self": null,
            "border": null,
            "bottom": null,
            "display": null,
            "flex": null,
            "flex_flow": null,
            "grid_area": null,
            "grid_auto_columns": null,
            "grid_auto_flow": null,
            "grid_auto_rows": null,
            "grid_column": null,
            "grid_gap": null,
            "grid_row": null,
            "grid_template_areas": null,
            "grid_template_columns": null,
            "grid_template_rows": null,
            "height": null,
            "justify_content": null,
            "justify_items": null,
            "left": null,
            "margin": null,
            "max_height": null,
            "max_width": null,
            "min_height": null,
            "min_width": null,
            "object_fit": null,
            "object_position": null,
            "order": null,
            "overflow": null,
            "overflow_x": null,
            "overflow_y": null,
            "padding": null,
            "right": null,
            "top": null,
            "visibility": null,
            "width": null
          }
        },
        "a83faf79ee7c4342bfad785dad2dcf4f": {
          "model_module": "@jupyter-widgets/controls",
          "model_name": "DescriptionStyleModel",
          "model_module_version": "1.5.0",
          "state": {
            "_model_module": "@jupyter-widgets/controls",
            "_model_module_version": "1.5.0",
            "_model_name": "DescriptionStyleModel",
            "_view_count": null,
            "_view_module": "@jupyter-widgets/base",
            "_view_module_version": "1.2.0",
            "_view_name": "StyleView",
            "description_width": ""
          }
        },
        "977189cbbeb943bfa4b0e165f4b30ff2": {
          "model_module": "@jupyter-widgets/base",
          "model_name": "LayoutModel",
          "model_module_version": "1.2.0",
          "state": {
            "_model_module": "@jupyter-widgets/base",
            "_model_module_version": "1.2.0",
            "_model_name": "LayoutModel",
            "_view_count": null,
            "_view_module": "@jupyter-widgets/base",
            "_view_module_version": "1.2.0",
            "_view_name": "LayoutView",
            "align_content": null,
            "align_items": null,
            "align_self": null,
            "border": null,
            "bottom": null,
            "display": null,
            "flex": null,
            "flex_flow": null,
            "grid_area": null,
            "grid_auto_columns": null,
            "grid_auto_flow": null,
            "grid_auto_rows": null,
            "grid_column": null,
            "grid_gap": null,
            "grid_row": null,
            "grid_template_areas": null,
            "grid_template_columns": null,
            "grid_template_rows": null,
            "height": null,
            "justify_content": null,
            "justify_items": null,
            "left": null,
            "margin": null,
            "max_height": null,
            "max_width": null,
            "min_height": null,
            "min_width": null,
            "object_fit": null,
            "object_position": null,
            "order": null,
            "overflow": null,
            "overflow_x": null,
            "overflow_y": null,
            "padding": null,
            "right": null,
            "top": null,
            "visibility": null,
            "width": null
          }
        },
        "d77236b444d541cf91b5dc3c38f99623": {
          "model_module": "@jupyter-widgets/controls",
          "model_name": "ProgressStyleModel",
          "model_module_version": "1.5.0",
          "state": {
            "_model_module": "@jupyter-widgets/controls",
            "_model_module_version": "1.5.0",
            "_model_name": "ProgressStyleModel",
            "_view_count": null,
            "_view_module": "@jupyter-widgets/base",
            "_view_module_version": "1.2.0",
            "_view_name": "StyleView",
            "bar_color": null,
            "description_width": ""
          }
        },
        "0c283d1b366348b4a55663d05bfe0569": {
          "model_module": "@jupyter-widgets/base",
          "model_name": "LayoutModel",
          "model_module_version": "1.2.0",
          "state": {
            "_model_module": "@jupyter-widgets/base",
            "_model_module_version": "1.2.0",
            "_model_name": "LayoutModel",
            "_view_count": null,
            "_view_module": "@jupyter-widgets/base",
            "_view_module_version": "1.2.0",
            "_view_name": "LayoutView",
            "align_content": null,
            "align_items": null,
            "align_self": null,
            "border": null,
            "bottom": null,
            "display": null,
            "flex": null,
            "flex_flow": null,
            "grid_area": null,
            "grid_auto_columns": null,
            "grid_auto_flow": null,
            "grid_auto_rows": null,
            "grid_column": null,
            "grid_gap": null,
            "grid_row": null,
            "grid_template_areas": null,
            "grid_template_columns": null,
            "grid_template_rows": null,
            "height": null,
            "justify_content": null,
            "justify_items": null,
            "left": null,
            "margin": null,
            "max_height": null,
            "max_width": null,
            "min_height": null,
            "min_width": null,
            "object_fit": null,
            "object_position": null,
            "order": null,
            "overflow": null,
            "overflow_x": null,
            "overflow_y": null,
            "padding": null,
            "right": null,
            "top": null,
            "visibility": null,
            "width": null
          }
        },
        "58c8302a45d843f7a43991b31ea1957c": {
          "model_module": "@jupyter-widgets/controls",
          "model_name": "DescriptionStyleModel",
          "model_module_version": "1.5.0",
          "state": {
            "_model_module": "@jupyter-widgets/controls",
            "_model_module_version": "1.5.0",
            "_model_name": "DescriptionStyleModel",
            "_view_count": null,
            "_view_module": "@jupyter-widgets/base",
            "_view_module_version": "1.2.0",
            "_view_name": "StyleView",
            "description_width": ""
          }
        },
        "a5dc58f022ca4b46a27ddd121f6cf649": {
          "model_module": "@jupyter-widgets/controls",
          "model_name": "HBoxModel",
          "model_module_version": "1.5.0",
          "state": {
            "_dom_classes": [],
            "_model_module": "@jupyter-widgets/controls",
            "_model_module_version": "1.5.0",
            "_model_name": "HBoxModel",
            "_view_count": null,
            "_view_module": "@jupyter-widgets/controls",
            "_view_module_version": "1.5.0",
            "_view_name": "HBoxView",
            "box_style": "",
            "children": [
              "IPY_MODEL_7e61a88dfee547f8842cd0081f84c5d8",
              "IPY_MODEL_81b8550003fe4d94b6f326c5b72abf44",
              "IPY_MODEL_8c555456650847cd8efc3530a6790df1"
            ],
            "layout": "IPY_MODEL_eba7b61b7d404505a4fb396bc0cf5999"
          }
        },
        "7e61a88dfee547f8842cd0081f84c5d8": {
          "model_module": "@jupyter-widgets/controls",
          "model_name": "HTMLModel",
          "model_module_version": "1.5.0",
          "state": {
            "_dom_classes": [],
            "_model_module": "@jupyter-widgets/controls",
            "_model_module_version": "1.5.0",
            "_model_name": "HTMLModel",
            "_view_count": null,
            "_view_module": "@jupyter-widgets/controls",
            "_view_module_version": "1.5.0",
            "_view_name": "HTMLView",
            "description": "",
            "description_tooltip": null,
            "layout": "IPY_MODEL_da9ae182a578444295815c91d7ff1818",
            "placeholder": "​",
            "style": "IPY_MODEL_b84ddbf61b5847b5b3887a2b2e4ed98a",
            "value": "100%"
          }
        },
        "81b8550003fe4d94b6f326c5b72abf44": {
          "model_module": "@jupyter-widgets/controls",
          "model_name": "FloatProgressModel",
          "model_module_version": "1.5.0",
          "state": {
            "_dom_classes": [],
            "_model_module": "@jupyter-widgets/controls",
            "_model_module_version": "1.5.0",
            "_model_name": "FloatProgressModel",
            "_view_count": null,
            "_view_module": "@jupyter-widgets/controls",
            "_view_module_version": "1.5.0",
            "_view_name": "ProgressView",
            "bar_style": "success",
            "description": "",
            "description_tooltip": null,
            "layout": "IPY_MODEL_f6104853ebe545db838c97d1b1ab6823",
            "max": 9742,
            "min": 0,
            "orientation": "horizontal",
            "style": "IPY_MODEL_e508acf5575a481e90ab78811421d93e",
            "value": 9742
          }
        },
        "8c555456650847cd8efc3530a6790df1": {
          "model_module": "@jupyter-widgets/controls",
          "model_name": "HTMLModel",
          "model_module_version": "1.5.0",
          "state": {
            "_dom_classes": [],
            "_model_module": "@jupyter-widgets/controls",
            "_model_module_version": "1.5.0",
            "_model_name": "HTMLModel",
            "_view_count": null,
            "_view_module": "@jupyter-widgets/controls",
            "_view_module_version": "1.5.0",
            "_view_name": "HTMLView",
            "description": "",
            "description_tooltip": null,
            "layout": "IPY_MODEL_790484a36d9d41509e1cd4deabf5a65c",
            "placeholder": "​",
            "style": "IPY_MODEL_e23a4629e4a648a6912181ea31215b7b",
            "value": " 9742/9742 [16:39&lt;00:00, 10.10it/s]"
          }
        },
        "eba7b61b7d404505a4fb396bc0cf5999": {
          "model_module": "@jupyter-widgets/base",
          "model_name": "LayoutModel",
          "model_module_version": "1.2.0",
          "state": {
            "_model_module": "@jupyter-widgets/base",
            "_model_module_version": "1.2.0",
            "_model_name": "LayoutModel",
            "_view_count": null,
            "_view_module": "@jupyter-widgets/base",
            "_view_module_version": "1.2.0",
            "_view_name": "LayoutView",
            "align_content": null,
            "align_items": null,
            "align_self": null,
            "border": null,
            "bottom": null,
            "display": null,
            "flex": null,
            "flex_flow": null,
            "grid_area": null,
            "grid_auto_columns": null,
            "grid_auto_flow": null,
            "grid_auto_rows": null,
            "grid_column": null,
            "grid_gap": null,
            "grid_row": null,
            "grid_template_areas": null,
            "grid_template_columns": null,
            "grid_template_rows": null,
            "height": null,
            "justify_content": null,
            "justify_items": null,
            "left": null,
            "margin": null,
            "max_height": null,
            "max_width": null,
            "min_height": null,
            "min_width": null,
            "object_fit": null,
            "object_position": null,
            "order": null,
            "overflow": null,
            "overflow_x": null,
            "overflow_y": null,
            "padding": null,
            "right": null,
            "top": null,
            "visibility": null,
            "width": null
          }
        },
        "da9ae182a578444295815c91d7ff1818": {
          "model_module": "@jupyter-widgets/base",
          "model_name": "LayoutModel",
          "model_module_version": "1.2.0",
          "state": {
            "_model_module": "@jupyter-widgets/base",
            "_model_module_version": "1.2.0",
            "_model_name": "LayoutModel",
            "_view_count": null,
            "_view_module": "@jupyter-widgets/base",
            "_view_module_version": "1.2.0",
            "_view_name": "LayoutView",
            "align_content": null,
            "align_items": null,
            "align_self": null,
            "border": null,
            "bottom": null,
            "display": null,
            "flex": null,
            "flex_flow": null,
            "grid_area": null,
            "grid_auto_columns": null,
            "grid_auto_flow": null,
            "grid_auto_rows": null,
            "grid_column": null,
            "grid_gap": null,
            "grid_row": null,
            "grid_template_areas": null,
            "grid_template_columns": null,
            "grid_template_rows": null,
            "height": null,
            "justify_content": null,
            "justify_items": null,
            "left": null,
            "margin": null,
            "max_height": null,
            "max_width": null,
            "min_height": null,
            "min_width": null,
            "object_fit": null,
            "object_position": null,
            "order": null,
            "overflow": null,
            "overflow_x": null,
            "overflow_y": null,
            "padding": null,
            "right": null,
            "top": null,
            "visibility": null,
            "width": null
          }
        },
        "b84ddbf61b5847b5b3887a2b2e4ed98a": {
          "model_module": "@jupyter-widgets/controls",
          "model_name": "DescriptionStyleModel",
          "model_module_version": "1.5.0",
          "state": {
            "_model_module": "@jupyter-widgets/controls",
            "_model_module_version": "1.5.0",
            "_model_name": "DescriptionStyleModel",
            "_view_count": null,
            "_view_module": "@jupyter-widgets/base",
            "_view_module_version": "1.2.0",
            "_view_name": "StyleView",
            "description_width": ""
          }
        },
        "f6104853ebe545db838c97d1b1ab6823": {
          "model_module": "@jupyter-widgets/base",
          "model_name": "LayoutModel",
          "model_module_version": "1.2.0",
          "state": {
            "_model_module": "@jupyter-widgets/base",
            "_model_module_version": "1.2.0",
            "_model_name": "LayoutModel",
            "_view_count": null,
            "_view_module": "@jupyter-widgets/base",
            "_view_module_version": "1.2.0",
            "_view_name": "LayoutView",
            "align_content": null,
            "align_items": null,
            "align_self": null,
            "border": null,
            "bottom": null,
            "display": null,
            "flex": null,
            "flex_flow": null,
            "grid_area": null,
            "grid_auto_columns": null,
            "grid_auto_flow": null,
            "grid_auto_rows": null,
            "grid_column": null,
            "grid_gap": null,
            "grid_row": null,
            "grid_template_areas": null,
            "grid_template_columns": null,
            "grid_template_rows": null,
            "height": null,
            "justify_content": null,
            "justify_items": null,
            "left": null,
            "margin": null,
            "max_height": null,
            "max_width": null,
            "min_height": null,
            "min_width": null,
            "object_fit": null,
            "object_position": null,
            "order": null,
            "overflow": null,
            "overflow_x": null,
            "overflow_y": null,
            "padding": null,
            "right": null,
            "top": null,
            "visibility": null,
            "width": null
          }
        },
        "e508acf5575a481e90ab78811421d93e": {
          "model_module": "@jupyter-widgets/controls",
          "model_name": "ProgressStyleModel",
          "model_module_version": "1.5.0",
          "state": {
            "_model_module": "@jupyter-widgets/controls",
            "_model_module_version": "1.5.0",
            "_model_name": "ProgressStyleModel",
            "_view_count": null,
            "_view_module": "@jupyter-widgets/base",
            "_view_module_version": "1.2.0",
            "_view_name": "StyleView",
            "bar_color": null,
            "description_width": ""
          }
        },
        "790484a36d9d41509e1cd4deabf5a65c": {
          "model_module": "@jupyter-widgets/base",
          "model_name": "LayoutModel",
          "model_module_version": "1.2.0",
          "state": {
            "_model_module": "@jupyter-widgets/base",
            "_model_module_version": "1.2.0",
            "_model_name": "LayoutModel",
            "_view_count": null,
            "_view_module": "@jupyter-widgets/base",
            "_view_module_version": "1.2.0",
            "_view_name": "LayoutView",
            "align_content": null,
            "align_items": null,
            "align_self": null,
            "border": null,
            "bottom": null,
            "display": null,
            "flex": null,
            "flex_flow": null,
            "grid_area": null,
            "grid_auto_columns": null,
            "grid_auto_flow": null,
            "grid_auto_rows": null,
            "grid_column": null,
            "grid_gap": null,
            "grid_row": null,
            "grid_template_areas": null,
            "grid_template_columns": null,
            "grid_template_rows": null,
            "height": null,
            "justify_content": null,
            "justify_items": null,
            "left": null,
            "margin": null,
            "max_height": null,
            "max_width": null,
            "min_height": null,
            "min_width": null,
            "object_fit": null,
            "object_position": null,
            "order": null,
            "overflow": null,
            "overflow_x": null,
            "overflow_y": null,
            "padding": null,
            "right": null,
            "top": null,
            "visibility": null,
            "width": null
          }
        },
        "e23a4629e4a648a6912181ea31215b7b": {
          "model_module": "@jupyter-widgets/controls",
          "model_name": "DescriptionStyleModel",
          "model_module_version": "1.5.0",
          "state": {
            "_model_module": "@jupyter-widgets/controls",
            "_model_module_version": "1.5.0",
            "_model_name": "DescriptionStyleModel",
            "_view_count": null,
            "_view_module": "@jupyter-widgets/base",
            "_view_module_version": "1.2.0",
            "_view_name": "StyleView",
            "description_width": ""
          }
        }
      }
    }
  },
  "nbformat": 4,
  "nbformat_minor": 5
}